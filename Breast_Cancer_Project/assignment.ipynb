{
 "cells": [
  {
   "cell_type": "markdown",
   "metadata": {},
   "source": [
    "Here we are working with numpy. \n",
    "We first created an numpy_array.\n",
    "Then we used perfromed some arithematic operations with number.\n",
    "And we also made some operations with in array.   "
   ]
  },
  {
   "cell_type": "code",
   "execution_count": 7,
   "metadata": {},
   "outputs": [
    {
     "name": "stdout",
     "output_type": "stream",
     "text": [
      "Simply print numpy array. [1 2 3 4 5 6 7 8 9]\n",
      "This is addition of array with number. [ 3  4  5  6  7  8  9 10 11]\n",
      "This is subtraction of array with number. [0 1 2 3 4 5 6 7 8]\n",
      "This is multiplication of array with number. [ 4  8 12 16 20 24 28 32 36]\n",
      "This is division of array with number. [0.5 1.  1.5 2.  2.5 3.  3.5 4.  4.5]\n",
      "This is addition of array itself./n [ 2  4  6  8 10 12 14 16 18]\n",
      "This is subtraction of array itself. [0 0 0 0 0 0 0 0 0]\n",
      "This is multiplication of array itself. [ 1  4  9 16 25 36 49 64 81]\n",
      "This is division of array itself. [1. 1. 1. 1. 1. 1. 1. 1. 1.]\n"
     ]
    }
   ],
   "source": [
    "import numpy as np ## ipmorting numpy library here...\n",
    "nA = np.array([1,2,3,4,5,6,7,8,9])  ## here we are creating a numpy array...\n",
    "print(\"Simply print numpy array.\\n\",nA) ## printing numpy array...\n",
    "\n",
    "## perfroming simple arithematic operations on numpy array...\n",
    "print(\"This is addition of array with number.\\n\",nA + 2)          ## adding by number... \n",
    "print(\"This is subtraction of array with number.\\n\",nA - 1)       ## subtraction by number...\n",
    "print(\"This is multiplication of array with number.\\n\",nA * 4)    ## multiplication by number...\n",
    "print(\"This is division of array with number.\\n\", nA / 2)         ## division by number... \n",
    "\n",
    "## operation with arrays\n",
    "print(\"This is addition of array itself.\\n\",nA + nA)         ## this will add array itself...\n",
    "print(\"This is subtraction of array itself.\\n\",nA - nA)         ## this will subtract array itself...\n",
    "print(\"This is multiplication of array itself.\\n\",nA * nA)         ## this will multiply array itself...\n",
    "print(\"This is division of array itself.\\n\",nA / nA)         ## this will divide array itself...\n",
    "\n"
   ]
  },
  {
   "cell_type": "code",
   "execution_count": null,
   "metadata": {},
   "outputs": [],
   "source": []
  }
 ],
 "metadata": {
  "kernelspec": {
   "display_name": "Python 3",
   "language": "python",
   "name": "python3"
  },
  "language_info": {
   "codemirror_mode": {
    "name": "ipython",
    "version": 3
   },
   "file_extension": ".py",
   "mimetype": "text/x-python",
   "name": "python",
   "nbconvert_exporter": "python",
   "pygments_lexer": "ipython3",
   "version": "3.11.4"
  },
  "orig_nbformat": 4
 },
 "nbformat": 4,
 "nbformat_minor": 2
}
